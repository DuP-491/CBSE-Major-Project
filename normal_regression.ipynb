{
 "cells": [
  {
   "cell_type": "code",
   "execution_count": 59,
   "metadata": {},
   "outputs": [],
   "source": [
    "import pandas as pd\n",
    "import numpy as np\n",
    "import sklearn\n",
    "from matplotlib import pyplot as plt\n",
    "from sklearn.linear_model import LinearRegression\n",
    "from sklearn.model_selection import train_test_split\n",
    "from sklearn.pipeline import make_pipeline"
   ]
  },
  {
   "cell_type": "code",
   "execution_count": 60,
   "metadata": {},
   "outputs": [],
   "source": [
    "%matplotlib notebook"
   ]
  },
  {
   "cell_type": "code",
   "execution_count": 61,
   "metadata": {},
   "outputs": [],
   "source": [
    "df=pd.read_csv('dataset_cbse.csv')\n",
    "# df=pd.read_csv('cocomo81.csv')"
   ]
  },
  {
   "cell_type": "code",
   "execution_count": 62,
   "metadata": {},
   "outputs": [
    {
     "data": {
      "text/plain": [
       "rely       float64\n",
       "data       float64\n",
       "cplx       float64\n",
       "time       float64\n",
       "stor       float64\n",
       "virt       float64\n",
       "turn       float64\n",
       "acap       float64\n",
       "aexp       float64\n",
       "pcap       float64\n",
       "vexp       float64\n",
       "lexp       float64\n",
       "modp       float64\n",
       "tool       float64\n",
       "sced       float64\n",
       "loc        float64\n",
       "actual     float64\n",
       "eaf        float64\n",
       "dd         float64\n",
       "cod        float64\n",
       "inte       float64\n",
       "nloc       float64\n",
       "nactual      int64\n",
       "dtype: object"
      ]
     },
     "execution_count": 62,
     "metadata": {},
     "output_type": "execute_result"
    }
   ],
   "source": [
    "df.dtypes"
   ]
  },
  {
   "attachments": {},
   "cell_type": "markdown",
   "metadata": {},
   "source": [
    "### Modelling"
   ]
  },
  {
   "cell_type": "code",
   "execution_count": 63,
   "metadata": {},
   "outputs": [],
   "source": [
    "X = df.drop(columns=['nactual','actual'],axis=1)\n",
    "Y = df['nactual']\n",
    "# X = df.drop(columns=['actual'],axis=1)\n",
    "# Y = df['actual']\n"
   ]
  },
  {
   "cell_type": "code",
   "execution_count": 64,
   "metadata": {},
   "outputs": [],
   "source": [
    "X_train , X_test , Y_train, Y_test = train_test_split(X,Y,test_size=0.25,random_state=1234)"
   ]
  },
  {
   "cell_type": "code",
   "execution_count": 65,
   "metadata": {},
   "outputs": [],
   "source": [
    "import seaborn as sns"
   ]
  },
  {
   "cell_type": "code",
   "execution_count": 66,
   "metadata": {},
   "outputs": [
    {
     "name": "stdout",
     "output_type": "stream",
     "text": [
      "0.7170572269522009\n"
     ]
    }
   ],
   "source": [
    "regr = LinearRegression()\n",
    "\n",
    "regr.fit(X_train,Y_train)\n",
    "print(regr.score(X_test,Y_test))"
   ]
  }
 ],
 "metadata": {
  "kernelspec": {
   "display_name": "base",
   "language": "python",
   "name": "python3"
  },
  "language_info": {
   "codemirror_mode": {
    "name": "ipython",
    "version": 3
   },
   "file_extension": ".py",
   "mimetype": "text/x-python",
   "name": "python",
   "nbconvert_exporter": "python",
   "pygments_lexer": "ipython3",
   "version": "3.10.9"
  },
  "orig_nbformat": 4
 },
 "nbformat": 4,
 "nbformat_minor": 2
}
